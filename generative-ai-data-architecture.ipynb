{
 "cells": [
  {
   "cell_type": "code",
   "execution_count": null,
   "id": "599d0eab-3b64-4e35-8699-0af763116d45",
   "metadata": {},
   "outputs": [],
   "source": [
    "import pandas as pd\n",
    "from sqlalchemy import create_engine\n",
    "\n",
    "# ---------------------------\n",
    "# 1. Extract Excel\n",
    "# ---------------------------\n",
    "file_path = r\"C:\\Users\\higas\\Downloads\\generative-ai-data-architecture\\Online_Retail.xlsx\"\n",
    "df = pd.read_excel(file_path)\n",
    "\n",
    "# ---------------------------\n",
    "# 2. Transform\n",
    "# ---------------------------\n",
    "df.drop_duplicates(inplace=True)\n",
    "df['InvoiceDate'] = pd.to_datetime(df['InvoiceDate'])\n",
    "df['Country'] = df['Country'].str.upper()\n",
    "df['Quantity'] = df['Quantity'].astype(int)\n",
    "df['UnitPrice'] = df['UnitPrice'].astype(float)\n",
    "df = df.dropna(subset=['CustomerID'])\n",
    "\n",
    "# ---------------------------\n",
    "# 3. Load to SQL (SQLite example)\n",
    "# ---------------------------\n",
    "engine = create_engine('sqlite:///online_retail.db', echo=False)\n",
    "\n",
    "# Fact Table\n",
    "df.to_sql('FactSales', con=engine, if_exists='replace', index=False)\n",
    "\n",
    "# Dimension Tables\n",
    "dim_customer = df[['CustomerID', 'Country']].drop_duplicates()\n",
    "dim_customer.to_sql('DimCustomer', con=engine, if_exists='replace', index=False)\n",
    "\n",
    "dim_product = df[['StockCode']].drop_duplicates()\n",
    "dim_product['ProductDescription'] = None\n",
    "dim_product.to_sql('DimProduct', con=engine, if_exists='replace', index=False)\n",
    "\n",
    "dim_date = df[['InvoiceDate']].drop_duplicates()\n",
    "dim_date['Day'] = dim_date['InvoiceDate'].dt.day\n",
    "dim_date['Month'] = dim_date['InvoiceDate'].dt.month\n",
    "dim_date['Year'] = dim_date['InvoiceDate'].dt.year\n",
    "dim_date['Weekday'] = dim_date['InvoiceDate'].dt.day_name()\n",
    "dim_date.to_sql('DimDate', con=engine, if_exists='replace', index=False)\n",
    "\n",
    "# ---------------------------\n",
    "# 4. Test SQL Query\n",
    "# ---------------------------\n",
    "query = \"\"\"\n",
    "SELECT f.InvoiceNo, f.StockCode, f.Quantity, f.UnitPrice, c.Country, d.Month\n",
    "FROM FactSales f\n",
    "JOIN DimCustomer c ON f.CustomerID = c.CustomerID\n",
    "JOIN DimDate d ON f.InvoiceDate = d.InvoiceDate\n",
    "LIMIT 10\n",
    "\"\"\"\n",
    "result = pd.read_sql(query, engine)\n",
    "print(result)"
   ]
  }
 ],
 "metadata": {
  "kernelspec": {
   "display_name": "Python 3 (ipykernel)",
   "language": "python",
   "name": "python3"
  },
  "language_info": {
   "codemirror_mode": {
    "name": "ipython",
    "version": 3
   },
   "file_extension": ".py",
   "mimetype": "text/x-python",
   "name": "python",
   "nbconvert_exporter": "python",
   "pygments_lexer": "ipython3",
   "version": "3.11.7"
  }
 },
 "nbformat": 4,
 "nbformat_minor": 5
}
